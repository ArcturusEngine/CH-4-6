{
 "cells": [
  {
   "cell_type": "code",
   "execution_count": 2,
   "id": "5372f410",
   "metadata": {},
   "outputs": [
    {
     "name": "stdout",
     "output_type": "stream",
     "text": [
      "Your guess was too high\n"
     ]
    }
   ],
   "source": [
    "secret = 7\n",
    "guess = 8\n",
    "\n",
    "if guess < secret:\n",
    "    print(\"Your guess was too low\")\n",
    "elif guess > secret:\n",
    "    print(\"Your guess was too high\")\n",
    "else:\n",
    "    print(f\"You got it right! The correct number was {secret}!\")"
   ]
  },
  {
   "cell_type": "code",
   "execution_count": 3,
   "id": "f708c684",
   "metadata": {},
   "outputs": [
    {
     "name": "stdout",
     "output_type": "stream",
     "text": [
      "That's a cherry!\n"
     ]
    }
   ],
   "source": [
    "small = True\n",
    "green = False\n",
    "\n",
    "if small == True and green == False:\n",
    "    print(\"That's a cherry!\")\n",
    "elif small == True and green == True:\n",
    "    print(\"That's a pea!\")\n",
    "elif small == False and green == True:\n",
    "    print(\"That's a watermelon\")\n",
    "elif small == False and green == False:\n",
    "    print(\"That's a pumpkin!\")"
   ]
  },
  {
   "cell_type": "code",
   "execution_count": 4,
   "id": "b7460367",
   "metadata": {},
   "outputs": [
    {
     "name": "stdout",
     "output_type": "stream",
     "text": [
      "3\n",
      "2\n",
      "1\n",
      "0\n"
     ]
    }
   ],
   "source": [
    "list = [3,2,1,0]\n",
    "for i in list:\n",
    "    print(i)"
   ]
  },
  {
   "cell_type": "code",
   "execution_count": 9,
   "id": "80bbdbcb",
   "metadata": {},
   "outputs": [],
   "source": [
    "guess_me = 7\n",
    "number = 1\n",
    "while number < guess_me:\n",
    "    print(f\"{number} is less than {guess_me}\")\n",
    "    number += 1\n",
    "    if number == guess_me:\n",
    "        print(f\"You got the right number!\")\n",
    "    if number > guess_me:\n",
    "        print(\"oops\")\n",
    "        break\n",
    "    "
   ]
  },
  {
   "cell_type": "code",
   "execution_count": 12,
   "id": "9064b9c4",
   "metadata": {},
   "outputs": [
    {
     "name": "stdout",
     "output_type": "stream",
     "text": [
      "Too low\n",
      "Too low\n",
      "Too low\n",
      "Too low\n",
      "Too low\n",
      "Found it!\n"
     ]
    }
   ],
   "source": [
    "guess_me = 5\n",
    "\n",
    "for num in range(10):\n",
    "    if num < guess_me:\n",
    "        print(\"Too low\")\n",
    "    elif num == guess_me:\n",
    "        print(\"Found it!\")\n",
    "        break"
   ]
  },
  {
   "cell_type": "code",
   "execution_count": null,
   "id": "04fad950",
   "metadata": {},
   "outputs": [],
   "source": []
  }
 ],
 "metadata": {
  "kernelspec": {
   "display_name": "Python 3 (ipykernel)",
   "language": "python",
   "name": "python3"
  },
  "language_info": {
   "codemirror_mode": {
    "name": "ipython",
    "version": 3
   },
   "file_extension": ".py",
   "mimetype": "text/x-python",
   "name": "python",
   "nbconvert_exporter": "python",
   "pygments_lexer": "ipython3",
   "version": "3.11.5"
  }
 },
 "nbformat": 4,
 "nbformat_minor": 5
}
